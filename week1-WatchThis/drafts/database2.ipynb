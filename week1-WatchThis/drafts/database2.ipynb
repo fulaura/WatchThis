{
 "cells": [
  {
   "cell_type": "code",
   "execution_count": 1,
   "metadata": {},
   "outputs": [],
   "source": [
    "import psycopg2\n",
    "from psycopg2 import sql\n",
    "import pandas as pd\n",
    "import numpy as np\n"
   ]
  },
  {
   "cell_type": "code",
   "execution_count": null,
   "metadata": {},
   "outputs": [],
   "source": [
    "conn = psycopg2.connect(\n",
    "    dbname=\"***\", \n",
    "    user=\"***\", \n",
    "    password=\"***\", \n",
    "    host=\"localhost\",  \n",
    "    port=\"5432\"\n",
    ")\n",
    "cur = conn.cursor()\n",
    "\n",
    "# Set the client encoding to UTF-8 explicitly\n",
    "cur.execute(\"SET CLIENT_ENCODING TO 'UTF8';\")\n"
   ]
  },
  {
   "cell_type": "code",
   "execution_count": 63,
   "metadata": {},
   "outputs": [
    {
     "name": "stdout",
     "output_type": "stream",
     "text": [
      "Table 'movies' created successfully!\n"
     ]
    }
   ],
   "source": [
    "cur.execute(\"\"\"\n",
    "    CREATE EXTENSION IF NOT EXISTS vector;\n",
    "\n",
    "    CREATE TABLE IF NOT EXISTS movies (\n",
    "        id SERIAL PRIMARY KEY,\n",
    "        title TEXT,\n",
    "        plot TEXT,\n",
    "        genres TEXT,\n",
    "        movie_cast TEXT,\n",
    "        fullplot TEXT,\n",
    "        countries TEXT,\n",
    "        directors TEXT,\n",
    "        rated TEXT,\n",
    "        lastupdated TEXT,\n",
    "        type TEXT,\n",
    "        runtime TEXT,\n",
    "        released BIGINT,\n",
    "        awards_wins INT,\n",
    "        awards_nominations INT,\n",
    "        year INT,\n",
    "        poster TEXT,\n",
    "        languages TEXT,\n",
    "        writers TEXT,\n",
    "        merged_rating TEXT,\n",
    "        merged_plot TEXT,\n",
    "        embeddings VECTOR(384)  -- Assuming embeddings are of size 384\n",
    "    );\n",
    "\"\"\")\n",
    "conn.commit()\n",
    "print(\"Table 'movies' created successfully!\")\n"
   ]
  },
  {
   "cell_type": "code",
   "execution_count": null,
   "metadata": {},
   "outputs": [
    {
     "name": "stdout",
     "output_type": "stream",
     "text": [
      "Data inserted successfully!\n"
     ]
    }
   ],
   "source": [
    "\n",
    "df = pd.DataFrame({\n",
    "    \"title\": [\"Movie 1\", \"Movie 2\"],\n",
    "    \"plot\": [\"Plot 1\", \"Plot 2\"],\n",
    "    \"genres\": [\"Action\", \"Drama\"],\n",
    "    \"embeddings\": [np.random.rand(384), np.random.rand(384)]  # Example embeddings\n",
    "})\n",
    "\n",
    "# Insert into the database\n",
    "insert_query = \"\"\"\n",
    "    INSERT INTO movies (title, plot, genres, embeddings)\n",
    "    VALUES (%s, %s, %s, %s);\n",
    "\"\"\"\n",
    "\n",
    "for i, row in df.iterrows():\n",
    "    try:\n",
    "        # Handle missing or incorrect types (e.g., NaN values)\n",
    "        title = row['title'] if pd.notna(row['title']) else 'Unknown Title'\n",
    "        plot = row['plot'] if pd.notna(row['plot']) else 'No plot available'\n",
    "        genres = row['genres'] if pd.notna(row['genres']) else 'Unknown'\n",
    "        embeddings = row['embeddings'].tolist()  # Ensure the embeddings are in the correct format\n",
    "\n",
    "        # Execute the insert query\n",
    "        cur.execute(insert_query, (title, plot, genres, embeddings))\n",
    "    except Exception as e:\n",
    "        print(f\"Error inserting row {i} (Title: {row['title']}): {e}\")\n",
    "        continue  # Skip to next row in case of an error\n",
    "\n",
    "conn.commit()\n",
    "print(\"Data inserted successfully!\")\n"
   ]
  },
  {
   "cell_type": "code",
   "execution_count": null,
   "metadata": {},
   "outputs": [],
   "source": [
    "cur.execute(\"DROP TABLE IF EXISTS movies;\")\n",
    "conn.commit()\n",
    "print(\"Table 'movies' dropped successfully!\")"
   ]
  },
  {
   "cell_type": "code",
   "execution_count": 64,
   "metadata": {},
   "outputs": [
    {
     "data": {
      "text/plain": [
       "plot                             object\n",
       "genres                           object\n",
       "cast                             object\n",
       "title                            object\n",
       "fullplot                         object\n",
       "countries                        object\n",
       "directors                        object\n",
       "rated                            object\n",
       "lastupdated                      object\n",
       "type                             object\n",
       "runtime.$numberInt                int64\n",
       "released.$date.$numberLong        int64\n",
       "awards.wins.$numberInt            int64\n",
       "awards.nominations.$numberInt     int64\n",
       "year.$numberInt                   int64\n",
       "poster                           object\n",
       "languages                        object\n",
       "writers                          object\n",
       "merged_rating                    object\n",
       "merged_plot                      object\n",
       "embeddings                       object\n",
       "dtype: object"
      ]
     },
     "execution_count": 64,
     "metadata": {},
     "output_type": "execute_result"
    }
   ],
   "source": [
    "df = pd.read_csv('./hello')\n",
    "df.dtypes"
   ]
  },
  {
   "cell_type": "code",
   "execution_count": null,
   "metadata": {},
   "outputs": [
    {
     "name": "stdout",
     "output_type": "stream",
     "text": [
      "Data inserted successfully!\n"
     ]
    }
   ],
   "source": [
    "for i, row in df.iterrows():\n",
    "    # if i<22374: continue\n",
    "    if row['embeddings']==[]: continue\n",
    "    try:\n",
    "        # Handle missing or incorrect types\n",
    "        title = row['title'] if pd.notna(row['title']) else 'Unknown Title'\n",
    "        plot = row['plot'] if pd.notna(row['plot']) else 'No plot available'\n",
    "        genres = row['genres'] if pd.notna(row['genres']) else 'Unknown'\n",
    "        movie_cast = row['cast'] if pd.notna(row['cast']) else 'Unknown'\n",
    "        fullplot = row['fullplot'] if pd.notna(row['fullplot']) else 'No full plot available'\n",
    "        countries = row['countries'] if pd.notna(row['countries']) else 'Unknown'\n",
    "        directors = row['directors'] if pd.notna(row['directors']) else 'Unknown'\n",
    "        rated = row['rated'] if pd.notna(row['rated']) else 'Unrated'\n",
    "        lastupdated = row['lastupdated'] if pd.notna(row['lastupdated']) else 'Unknown'\n",
    "        type_ = row['type'] if pd.notna(row['type']) else 'Unknown'\n",
    "        runtime = row['runtime.$numberInt'] if pd.notna(row['runtime.$numberInt']) else None\n",
    "        released = row['released.$date.$numberLong'] if pd.notna(row['released.$date.$numberLong']) else None\n",
    "        awards_wins = row['awards.wins.$numberInt'] if pd.notna(row['awards.wins.$numberInt']) else 0\n",
    "        awards_nominations = row['awards.nominations.$numberInt'] if pd.notna(row['awards.nominations.$numberInt']) else 0\n",
    "        year = row['year.$numberInt'] if pd.notna(row['year.$numberInt']) else None\n",
    "        poster = row['poster'] if pd.notna(row['poster']) else 'No poster available'\n",
    "        languages = row['languages'] if pd.notna(row['languages']) else 'Unknown'\n",
    "        writers = row['writers'] if pd.notna(row['writers']) else 'Unknown'\n",
    "        merged_rating = row['merged_rating'] if pd.notna(row['merged_rating']) else 'Unknown'\n",
    "        merged_plot = row['merged_plot'] if pd.notna(row['merged_plot']) else 'No plot available'\n",
    "        embeddings = row['embeddings']  # Ensure embeddings are in the correct format\n",
    "        \n",
    "        \n",
    "        # Execute the insert query\n",
    "        cur.execute(insert_query, (\n",
    "            title, plot, genres, movie_cast, fullplot, countries, directors, rated, lastupdated, \n",
    "            type_, runtime, released, awards_wins, awards_nominations, year, poster, languages, writers, \n",
    "            merged_rating, merged_plot, embeddings\n",
    "        ))\n",
    "    except Exception as e:\n",
    "        print(f\"Error inserting row {i} (Title: {row['title']}): {e}\")\n",
    "        continue  # Skip to the next row in case of an error\n",
    "\n",
    "conn.commit()\n",
    "print(\"Data inserted successfully!\")"
   ]
  },
  {
   "cell_type": "code",
   "execution_count": 3,
   "metadata": {},
   "outputs": [],
   "source": [
    "insert_query = \"\"\"\n",
    "    INSERT INTO movies (\n",
    "        title, plot, genres, movie_cast, fullplot, countries, directors, rated, lastupdated, \n",
    "        type, runtime, released, awards_wins, awards_nominations, year, poster, languages, writers, \n",
    "        merged_rating, merged_plot, embeddings\n",
    "    )\n",
    "    VALUES (%s, %s, %s, %s, %s, %s, %s, %s, %s, %s, %s, %s, %s, %s, %s, %s, %s, %s, %s, %s, %s);\n",
    "\"\"\"\n"
   ]
  },
  {
   "cell_type": "code",
   "execution_count": 66,
   "metadata": {},
   "outputs": [
    {
     "data": {
      "text/plain": [
       "'[-6.10166974e-02  6.07670434e-02 -7.44124874e-02 -1.73143391e-03\\n  9.44415294e-03 -3.79277691e-02  7.67600387e-02 -5.26759662e-02\\n  5.43225706e-02 -2.94168573e-02  2.26130243e-03  3.26623698e-03\\n -2.20220145e-02  4.06650789e-02 -6.76881447e-02 -9.19947284e-04\\n -8.31578299e-02  3.95597704e-03  2.97267847e-02 -1.16212517e-02\\n  8.85565951e-03 -9.30010574e-04  6.29055128e-02  2.56017726e-02\\n -2.59965286e-02  8.95323381e-02 -4.11350541e-02  3.36102508e-02\\n -3.42771746e-02 -3.22402306e-02  5.88282906e-02 -7.42172031e-03\\n -1.64480396e-02 -1.20126158e-02 -3.14663984e-02  1.25617778e-03\\n  1.32656097e-02  8.05178210e-02 -1.88402347e-02  1.12633176e-01\\n -2.26827282e-02 -7.66512705e-03  4.71694879e-02 -3.91194969e-02\\n  3.11465804e-02  6.47393093e-02 -1.37343509e-02 -2.95199044e-02\\n  4.11288925e-02  2.98486976e-03 -2.34852936e-02 -3.63463536e-02\\n  5.17972596e-02  5.53030893e-02  2.83705946e-02 -8.43648911e-02\\n  1.08300690e-02 -4.57104668e-02  1.27245234e-02  3.58324349e-02\\n  1.49009563e-02  2.17917492e-03 -5.82895055e-02  8.39964524e-02\\n  8.56648982e-02 -3.53705399e-02  2.75575765e-03 -6.53460324e-02\\n -5.86387031e-02  4.19114204e-03  5.66784777e-02 -2.64245607e-02\\n -1.13277324e-02 -8.70092362e-02  1.84494015e-02 -5.85339069e-02\\n  1.89585816e-02 -6.52646199e-02 -9.15269181e-02 -8.19105376e-03\\n  3.08218002e-02 -8.79291743e-02 -4.92603853e-02  2.33569574e-02\\n  1.42114488e-02 -9.96000483e-04  3.65960225e-02 -1.46822473e-02\\n  2.51791868e-02  7.45509267e-02 -9.26215276e-02  8.68902262e-03\\n -5.15159145e-02  2.74467655e-02  3.90409236e-03 -4.27341536e-02\\n  1.14873648e-01  1.62725933e-02 -3.44274305e-02  7.80707970e-02\\n  3.62777933e-02 -4.82181087e-02  1.72742493e-02 -5.23715205e-02\\n  1.00903228e-01  8.53255019e-03 -9.77132842e-02  9.12921950e-02\\n  1.48561457e-02 -2.45005954e-02  6.68007657e-02  3.41808125e-02\\n  1.04173890e-03  1.65756252e-02  5.16523048e-02 -7.19327703e-02\\n -3.38586569e-02 -9.01721232e-03 -6.98081031e-02 -2.25473568e-03\\n  5.10050803e-02  6.12235852e-02 -6.19201325e-02 -7.83700217e-03\\n  1.14221964e-02  4.74284105e-02  2.81344652e-02 -1.50364260e-33\\n -2.02077217e-02 -5.59872165e-02 -1.63914412e-02  3.89222354e-02\\n -2.86001409e-03 -6.95699593e-03 -6.08786866e-02  5.54909594e-02\\n -3.25172581e-02 -4.24584141e-03 -9.03222617e-03  4.78604846e-02\\n -1.19648979e-03  4.05007601e-02  4.48723920e-02 -5.25291450e-02\\n  4.95276377e-02 -3.59777398e-02  3.51270661e-02 -1.47591783e-02\\n -7.21732080e-02  9.22354776e-03 -2.17096712e-02 -8.65647569e-03\\n -3.82018238e-02  5.94848134e-02  7.85886422e-02 -9.33881178e-02\\n -1.75043885e-02  1.42107708e-02 -5.12758829e-02  3.73915397e-02\\n -4.31430005e-02  1.48593290e-02  3.03523038e-02  2.14856341e-02\\n  1.47280553e-02 -4.57943566e-02 -4.74132225e-02 -1.03007331e-01\\n -7.39623532e-02  4.72059213e-02 -4.93673868e-02 -1.09672686e-02\\n  1.51302768e-02  6.70839846e-02 -7.49839768e-02  9.21694636e-02\\n -2.62664612e-02  5.81926778e-02 -3.11369728e-03  6.60855845e-02\\n  7.78989866e-02  1.56439729e-02 -1.98812354e-02  7.92539939e-02\\n -1.81366149e-02  3.61325927e-02  4.18483727e-02 -1.90593470e-02\\n  4.42078449e-02  8.67620111e-02 -2.92780367e-03  4.45065945e-02\\n  3.20321545e-02 -3.72814760e-02  1.39066046e-02 -3.74358967e-02\\n  1.08286612e-01 -1.77628696e-02 -8.44256952e-02  3.02534010e-02\\n  1.99952014e-02 -2.93234661e-02 -4.06756215e-02  8.59593600e-02\\n -2.99779903e-02 -2.58309171e-02 -4.45484649e-03  4.90263104e-02\\n -1.57915466e-02 -8.85446146e-02  4.95289788e-02  3.08780633e-02\\n -2.17280462e-02 -2.87656188e-02  1.40815123e-03 -1.56868294e-01\\n -7.06814080e-02  1.33179128e-02 -6.89358041e-02 -4.26405706e-02\\n  4.66756411e-02  2.76020542e-02  4.97571826e-02 -4.54820300e-34\\n  5.19438013e-02 -4.69402550e-03 -3.02680153e-02  4.52513769e-02\\n  4.83668083e-03 -3.60760130e-02 -2.86741108e-02  1.35885980e-02\\n -1.12030789e-01  3.54871713e-02  5.99001870e-02 -2.80209482e-02\\n -2.31125709e-02 -6.35247491e-03  8.49697143e-02 -4.15675305e-02\\n  5.08867577e-02  4.00790162e-02 -3.31413075e-02  4.73801941e-02\\n  1.15754783e-01  3.12689319e-02  2.93141557e-03 -1.16102993e-02\\n -7.21407086e-02  1.05028868e-01  3.62783018e-03 -7.74213299e-02\\n -6.08159639e-02 -4.65341732e-02 -5.37111098e-03 -6.15036562e-02\\n  5.94449341e-02 -6.95161298e-02 -4.10843343e-02  4.69964333e-02\\n  8.90311971e-02  3.73480306e-03  7.35752704e-03 -4.53041121e-03\\n  8.38533565e-02  6.30287006e-02  9.15110577e-03 -1.57852452e-02\\n -1.76975187e-02  5.75433997e-03 -6.12217747e-02  5.18017001e-02\\n  8.17471743e-03  5.22440337e-02  1.29833007e-02 -4.43286961e-03\\n -9.47128460e-02 -5.99102341e-02 -3.07160504e-02 -1.10520393e-01\\n  2.31810343e-02 -1.45454615e-01 -3.87467220e-02  6.77411407e-02\\n -7.74311647e-02  3.33301872e-02  1.72559563e-02  7.15076849e-02\\n -7.27658197e-02 -1.85651258e-02  2.58241477e-03 -9.12430696e-03\\n  2.16974970e-03 -1.15596212e-03  9.10592228e-02  1.68410894e-02\\n  4.23182771e-02 -4.81870696e-02  8.34742114e-02 -2.56113298e-02\\n  3.22338343e-02 -4.99239564e-02 -1.20126773e-02 -6.85502514e-02\\n -1.48059642e-02 -3.95145155e-02  8.63944143e-02  9.85739529e-02\\n -1.58598628e-02 -4.18475233e-02  9.77323577e-02 -3.49929556e-02\\n -7.68636018e-02  4.77976799e-02  8.04728344e-02  8.49557295e-02\\n  6.86864108e-02 -6.70653209e-02  4.03244682e-02 -3.94088318e-08\\n -5.16623147e-02  3.29920091e-02  5.97022474e-03 -2.96402276e-02\\n  4.43106741e-02  2.22671647e-02  2.10584328e-02 -3.88107379e-04\\n -1.58411004e-02 -8.71515796e-02  4.65051159e-02  3.99435721e-02\\n  1.77671351e-02  7.45533332e-02 -5.48622571e-02  4.57456186e-02\\n -1.64524894e-02 -1.05540067e-01 -3.86889614e-02 -9.57763344e-02\\n  5.74927544e-03 -6.69615567e-02  2.33478453e-02  3.37195098e-02\\n -5.07190637e-02  6.62336051e-02 -9.22603309e-02 -1.90286972e-02\\n  8.26080814e-02  7.16258511e-02 -2.77217738e-02  4.70004529e-02\\n -4.00358811e-02 -2.04381980e-02  9.79380100e-04 -4.78474833e-02\\n -1.54917734e-02  8.43431987e-03 -2.75004609e-03 -6.89170435e-02\\n -1.20627046e-01 -7.64558837e-02 -1.91092561e-03  1.99638959e-02\\n -1.00683030e-02 -4.95288633e-02 -1.69203468e-02 -8.87648482e-03\\n -4.42160703e-02  3.50789838e-02  3.54710408e-02 -6.52146637e-02\\n  1.01684801e-01  2.59361956e-02  1.52659342e-02 -5.16859517e-02\\n  5.45136668e-02 -8.95682201e-02 -2.57092062e-02 -5.27672879e-02\\n  9.04379636e-02 -2.13174000e-02 -5.10378890e-02  6.18936159e-02]'"
      ]
     },
     "execution_count": 66,
     "metadata": {},
     "output_type": "execute_result"
    }
   ],
   "source": [
    "df.iloc[0]['embeddings']"
   ]
  },
  {
   "cell_type": "code",
   "execution_count": 107,
   "metadata": {},
   "outputs": [],
   "source": [
    "cur.execute(\"CREATE EXTENSION IF NOT EXISTS vector;\")\n",
    "from pgvector.psycopg2 import register_vector\n",
    "register_vector(conn)\n"
   ]
  },
  {
   "cell_type": "code",
   "execution_count": null,
   "metadata": {},
   "outputs": [
    {
     "ename": "ArrowInvalid",
     "evalue": "Could not open Parquet input source '<Buffer>': Parquet magic bytes not found in footer. Either the file is corrupted or this is not a parquet file.",
     "output_type": "error",
     "traceback": [
      "\u001b[1;31m---------------------------------------------------------------------------\u001b[0m",
      "\u001b[1;31mArrowInvalid\u001b[0m                              Traceback (most recent call last)",
      "Cell \u001b[1;32mIn[5], line 1\u001b[0m\n\u001b[1;32m----> 1\u001b[0m df\u001b[38;5;241m=\u001b[39m\u001b[43mpd\u001b[49m\u001b[38;5;241;43m.\u001b[39;49m\u001b[43mread_parquet\u001b[49m\u001b[43m(\u001b[49m\u001b[38;5;124;43m'\u001b[39;49m\u001b[38;5;124;43m../data/airbnb_dataset_processed.csv\u001b[39;49m\u001b[38;5;124;43m'\u001b[39;49m\u001b[43m)\u001b[49m\n",
      "File \u001b[1;32mc:\\Users\\Niitro_musics\\AppData\\Local\\Programs\\Python\\Python312\\Lib\\site-packages\\pandas\\io\\parquet.py:667\u001b[0m, in \u001b[0;36mread_parquet\u001b[1;34m(path, engine, columns, storage_options, use_nullable_dtypes, dtype_backend, filesystem, filters, **kwargs)\u001b[0m\n\u001b[0;32m    664\u001b[0m     use_nullable_dtypes \u001b[38;5;241m=\u001b[39m \u001b[38;5;28;01mFalse\u001b[39;00m\n\u001b[0;32m    665\u001b[0m check_dtype_backend(dtype_backend)\n\u001b[1;32m--> 667\u001b[0m \u001b[38;5;28;01mreturn\u001b[39;00m \u001b[43mimpl\u001b[49m\u001b[38;5;241;43m.\u001b[39;49m\u001b[43mread\u001b[49m\u001b[43m(\u001b[49m\n\u001b[0;32m    668\u001b[0m \u001b[43m    \u001b[49m\u001b[43mpath\u001b[49m\u001b[43m,\u001b[49m\n\u001b[0;32m    669\u001b[0m \u001b[43m    \u001b[49m\u001b[43mcolumns\u001b[49m\u001b[38;5;241;43m=\u001b[39;49m\u001b[43mcolumns\u001b[49m\u001b[43m,\u001b[49m\n\u001b[0;32m    670\u001b[0m \u001b[43m    \u001b[49m\u001b[43mfilters\u001b[49m\u001b[38;5;241;43m=\u001b[39;49m\u001b[43mfilters\u001b[49m\u001b[43m,\u001b[49m\n\u001b[0;32m    671\u001b[0m \u001b[43m    \u001b[49m\u001b[43mstorage_options\u001b[49m\u001b[38;5;241;43m=\u001b[39;49m\u001b[43mstorage_options\u001b[49m\u001b[43m,\u001b[49m\n\u001b[0;32m    672\u001b[0m \u001b[43m    \u001b[49m\u001b[43muse_nullable_dtypes\u001b[49m\u001b[38;5;241;43m=\u001b[39;49m\u001b[43muse_nullable_dtypes\u001b[49m\u001b[43m,\u001b[49m\n\u001b[0;32m    673\u001b[0m \u001b[43m    \u001b[49m\u001b[43mdtype_backend\u001b[49m\u001b[38;5;241;43m=\u001b[39;49m\u001b[43mdtype_backend\u001b[49m\u001b[43m,\u001b[49m\n\u001b[0;32m    674\u001b[0m \u001b[43m    \u001b[49m\u001b[43mfilesystem\u001b[49m\u001b[38;5;241;43m=\u001b[39;49m\u001b[43mfilesystem\u001b[49m\u001b[43m,\u001b[49m\n\u001b[0;32m    675\u001b[0m \u001b[43m    \u001b[49m\u001b[38;5;241;43m*\u001b[39;49m\u001b[38;5;241;43m*\u001b[39;49m\u001b[43mkwargs\u001b[49m\u001b[43m,\u001b[49m\n\u001b[0;32m    676\u001b[0m \u001b[43m\u001b[49m\u001b[43m)\u001b[49m\n",
      "File \u001b[1;32mc:\\Users\\Niitro_musics\\AppData\\Local\\Programs\\Python\\Python312\\Lib\\site-packages\\pandas\\io\\parquet.py:274\u001b[0m, in \u001b[0;36mPyArrowImpl.read\u001b[1;34m(self, path, columns, filters, use_nullable_dtypes, dtype_backend, storage_options, filesystem, **kwargs)\u001b[0m\n\u001b[0;32m    267\u001b[0m path_or_handle, handles, filesystem \u001b[38;5;241m=\u001b[39m _get_path_or_handle(\n\u001b[0;32m    268\u001b[0m     path,\n\u001b[0;32m    269\u001b[0m     filesystem,\n\u001b[0;32m    270\u001b[0m     storage_options\u001b[38;5;241m=\u001b[39mstorage_options,\n\u001b[0;32m    271\u001b[0m     mode\u001b[38;5;241m=\u001b[39m\u001b[38;5;124m\"\u001b[39m\u001b[38;5;124mrb\u001b[39m\u001b[38;5;124m\"\u001b[39m,\n\u001b[0;32m    272\u001b[0m )\n\u001b[0;32m    273\u001b[0m \u001b[38;5;28;01mtry\u001b[39;00m:\n\u001b[1;32m--> 274\u001b[0m     pa_table \u001b[38;5;241m=\u001b[39m \u001b[38;5;28;43mself\u001b[39;49m\u001b[38;5;241;43m.\u001b[39;49m\u001b[43mapi\u001b[49m\u001b[38;5;241;43m.\u001b[39;49m\u001b[43mparquet\u001b[49m\u001b[38;5;241;43m.\u001b[39;49m\u001b[43mread_table\u001b[49m\u001b[43m(\u001b[49m\n\u001b[0;32m    275\u001b[0m \u001b[43m        \u001b[49m\u001b[43mpath_or_handle\u001b[49m\u001b[43m,\u001b[49m\n\u001b[0;32m    276\u001b[0m \u001b[43m        \u001b[49m\u001b[43mcolumns\u001b[49m\u001b[38;5;241;43m=\u001b[39;49m\u001b[43mcolumns\u001b[49m\u001b[43m,\u001b[49m\n\u001b[0;32m    277\u001b[0m \u001b[43m        \u001b[49m\u001b[43mfilesystem\u001b[49m\u001b[38;5;241;43m=\u001b[39;49m\u001b[43mfilesystem\u001b[49m\u001b[43m,\u001b[49m\n\u001b[0;32m    278\u001b[0m \u001b[43m        \u001b[49m\u001b[43mfilters\u001b[49m\u001b[38;5;241;43m=\u001b[39;49m\u001b[43mfilters\u001b[49m\u001b[43m,\u001b[49m\n\u001b[0;32m    279\u001b[0m \u001b[43m        \u001b[49m\u001b[38;5;241;43m*\u001b[39;49m\u001b[38;5;241;43m*\u001b[39;49m\u001b[43mkwargs\u001b[49m\u001b[43m,\u001b[49m\n\u001b[0;32m    280\u001b[0m \u001b[43m    \u001b[49m\u001b[43m)\u001b[49m\n\u001b[0;32m    281\u001b[0m     result \u001b[38;5;241m=\u001b[39m pa_table\u001b[38;5;241m.\u001b[39mto_pandas(\u001b[38;5;241m*\u001b[39m\u001b[38;5;241m*\u001b[39mto_pandas_kwargs)\n\u001b[0;32m    283\u001b[0m     \u001b[38;5;28;01mif\u001b[39;00m manager \u001b[38;5;241m==\u001b[39m \u001b[38;5;124m\"\u001b[39m\u001b[38;5;124marray\u001b[39m\u001b[38;5;124m\"\u001b[39m:\n",
      "File \u001b[1;32mc:\\Users\\Niitro_musics\\AppData\\Local\\Programs\\Python\\Python312\\Lib\\site-packages\\pyarrow\\parquet\\core.py:1793\u001b[0m, in \u001b[0;36mread_table\u001b[1;34m(source, columns, use_threads, schema, use_pandas_metadata, read_dictionary, memory_map, buffer_size, partitioning, filesystem, filters, use_legacy_dataset, ignore_prefixes, pre_buffer, coerce_int96_timestamp_unit, decryption_properties, thrift_string_size_limit, thrift_container_size_limit, page_checksum_verification)\u001b[0m\n\u001b[0;32m   1787\u001b[0m     warnings\u001b[38;5;241m.\u001b[39mwarn(\n\u001b[0;32m   1788\u001b[0m         \u001b[38;5;124m\"\u001b[39m\u001b[38;5;124mPassing \u001b[39m\u001b[38;5;124m'\u001b[39m\u001b[38;5;124muse_legacy_dataset\u001b[39m\u001b[38;5;124m'\u001b[39m\u001b[38;5;124m is deprecated as of pyarrow 15.0.0 \u001b[39m\u001b[38;5;124m\"\u001b[39m\n\u001b[0;32m   1789\u001b[0m         \u001b[38;5;124m\"\u001b[39m\u001b[38;5;124mand will be removed in a future version.\u001b[39m\u001b[38;5;124m\"\u001b[39m,\n\u001b[0;32m   1790\u001b[0m         \u001b[38;5;167;01mFutureWarning\u001b[39;00m, stacklevel\u001b[38;5;241m=\u001b[39m\u001b[38;5;241m2\u001b[39m)\n\u001b[0;32m   1792\u001b[0m \u001b[38;5;28;01mtry\u001b[39;00m:\n\u001b[1;32m-> 1793\u001b[0m     dataset \u001b[38;5;241m=\u001b[39m \u001b[43mParquetDataset\u001b[49m\u001b[43m(\u001b[49m\n\u001b[0;32m   1794\u001b[0m \u001b[43m        \u001b[49m\u001b[43msource\u001b[49m\u001b[43m,\u001b[49m\n\u001b[0;32m   1795\u001b[0m \u001b[43m        \u001b[49m\u001b[43mschema\u001b[49m\u001b[38;5;241;43m=\u001b[39;49m\u001b[43mschema\u001b[49m\u001b[43m,\u001b[49m\n\u001b[0;32m   1796\u001b[0m \u001b[43m        \u001b[49m\u001b[43mfilesystem\u001b[49m\u001b[38;5;241;43m=\u001b[39;49m\u001b[43mfilesystem\u001b[49m\u001b[43m,\u001b[49m\n\u001b[0;32m   1797\u001b[0m \u001b[43m        \u001b[49m\u001b[43mpartitioning\u001b[49m\u001b[38;5;241;43m=\u001b[39;49m\u001b[43mpartitioning\u001b[49m\u001b[43m,\u001b[49m\n\u001b[0;32m   1798\u001b[0m \u001b[43m        \u001b[49m\u001b[43mmemory_map\u001b[49m\u001b[38;5;241;43m=\u001b[39;49m\u001b[43mmemory_map\u001b[49m\u001b[43m,\u001b[49m\n\u001b[0;32m   1799\u001b[0m \u001b[43m        \u001b[49m\u001b[43mread_dictionary\u001b[49m\u001b[38;5;241;43m=\u001b[39;49m\u001b[43mread_dictionary\u001b[49m\u001b[43m,\u001b[49m\n\u001b[0;32m   1800\u001b[0m \u001b[43m        \u001b[49m\u001b[43mbuffer_size\u001b[49m\u001b[38;5;241;43m=\u001b[39;49m\u001b[43mbuffer_size\u001b[49m\u001b[43m,\u001b[49m\n\u001b[0;32m   1801\u001b[0m \u001b[43m        \u001b[49m\u001b[43mfilters\u001b[49m\u001b[38;5;241;43m=\u001b[39;49m\u001b[43mfilters\u001b[49m\u001b[43m,\u001b[49m\n\u001b[0;32m   1802\u001b[0m \u001b[43m        \u001b[49m\u001b[43mignore_prefixes\u001b[49m\u001b[38;5;241;43m=\u001b[39;49m\u001b[43mignore_prefixes\u001b[49m\u001b[43m,\u001b[49m\n\u001b[0;32m   1803\u001b[0m \u001b[43m        \u001b[49m\u001b[43mpre_buffer\u001b[49m\u001b[38;5;241;43m=\u001b[39;49m\u001b[43mpre_buffer\u001b[49m\u001b[43m,\u001b[49m\n\u001b[0;32m   1804\u001b[0m \u001b[43m        \u001b[49m\u001b[43mcoerce_int96_timestamp_unit\u001b[49m\u001b[38;5;241;43m=\u001b[39;49m\u001b[43mcoerce_int96_timestamp_unit\u001b[49m\u001b[43m,\u001b[49m\n\u001b[0;32m   1805\u001b[0m \u001b[43m        \u001b[49m\u001b[43mdecryption_properties\u001b[49m\u001b[38;5;241;43m=\u001b[39;49m\u001b[43mdecryption_properties\u001b[49m\u001b[43m,\u001b[49m\n\u001b[0;32m   1806\u001b[0m \u001b[43m        \u001b[49m\u001b[43mthrift_string_size_limit\u001b[49m\u001b[38;5;241;43m=\u001b[39;49m\u001b[43mthrift_string_size_limit\u001b[49m\u001b[43m,\u001b[49m\n\u001b[0;32m   1807\u001b[0m \u001b[43m        \u001b[49m\u001b[43mthrift_container_size_limit\u001b[49m\u001b[38;5;241;43m=\u001b[39;49m\u001b[43mthrift_container_size_limit\u001b[49m\u001b[43m,\u001b[49m\n\u001b[0;32m   1808\u001b[0m \u001b[43m        \u001b[49m\u001b[43mpage_checksum_verification\u001b[49m\u001b[38;5;241;43m=\u001b[39;49m\u001b[43mpage_checksum_verification\u001b[49m\u001b[43m,\u001b[49m\n\u001b[0;32m   1809\u001b[0m \u001b[43m    \u001b[49m\u001b[43m)\u001b[49m\n\u001b[0;32m   1810\u001b[0m \u001b[38;5;28;01mexcept\u001b[39;00m \u001b[38;5;167;01mImportError\u001b[39;00m:\n\u001b[0;32m   1811\u001b[0m     \u001b[38;5;66;03m# fall back on ParquetFile for simple cases when pyarrow.dataset\u001b[39;00m\n\u001b[0;32m   1812\u001b[0m     \u001b[38;5;66;03m# module is not available\u001b[39;00m\n\u001b[0;32m   1813\u001b[0m     \u001b[38;5;28;01mif\u001b[39;00m filters \u001b[38;5;129;01mis\u001b[39;00m \u001b[38;5;129;01mnot\u001b[39;00m \u001b[38;5;28;01mNone\u001b[39;00m:\n",
      "File \u001b[1;32mc:\\Users\\Niitro_musics\\AppData\\Local\\Programs\\Python\\Python312\\Lib\\site-packages\\pyarrow\\parquet\\core.py:1360\u001b[0m, in \u001b[0;36mParquetDataset.__init__\u001b[1;34m(self, path_or_paths, filesystem, schema, filters, read_dictionary, memory_map, buffer_size, partitioning, ignore_prefixes, pre_buffer, coerce_int96_timestamp_unit, decryption_properties, thrift_string_size_limit, thrift_container_size_limit, page_checksum_verification, use_legacy_dataset)\u001b[0m\n\u001b[0;32m   1356\u001b[0m \u001b[38;5;28;01mif\u001b[39;00m single_file \u001b[38;5;129;01mis\u001b[39;00m \u001b[38;5;129;01mnot\u001b[39;00m \u001b[38;5;28;01mNone\u001b[39;00m:\n\u001b[0;32m   1357\u001b[0m     fragment \u001b[38;5;241m=\u001b[39m parquet_format\u001b[38;5;241m.\u001b[39mmake_fragment(single_file, filesystem)\n\u001b[0;32m   1359\u001b[0m     \u001b[38;5;28mself\u001b[39m\u001b[38;5;241m.\u001b[39m_dataset \u001b[38;5;241m=\u001b[39m ds\u001b[38;5;241m.\u001b[39mFileSystemDataset(\n\u001b[1;32m-> 1360\u001b[0m         [fragment], schema\u001b[38;5;241m=\u001b[39mschema \u001b[38;5;129;01mor\u001b[39;00m \u001b[43mfragment\u001b[49m\u001b[38;5;241;43m.\u001b[39;49m\u001b[43mphysical_schema\u001b[49m,\n\u001b[0;32m   1361\u001b[0m         \u001b[38;5;28mformat\u001b[39m\u001b[38;5;241m=\u001b[39mparquet_format,\n\u001b[0;32m   1362\u001b[0m         filesystem\u001b[38;5;241m=\u001b[39mfragment\u001b[38;5;241m.\u001b[39mfilesystem\n\u001b[0;32m   1363\u001b[0m     )\n\u001b[0;32m   1364\u001b[0m     \u001b[38;5;28;01mreturn\u001b[39;00m\n\u001b[0;32m   1366\u001b[0m \u001b[38;5;66;03m# check partitioning to enable dictionary encoding\u001b[39;00m\n",
      "File \u001b[1;32mc:\\Users\\Niitro_musics\\AppData\\Local\\Programs\\Python\\Python312\\Lib\\site-packages\\pyarrow\\_dataset.pyx:1431\u001b[0m, in \u001b[0;36mpyarrow._dataset.Fragment.physical_schema.__get__\u001b[1;34m()\u001b[0m\n",
      "File \u001b[1;32mc:\\Users\\Niitro_musics\\AppData\\Local\\Programs\\Python\\Python312\\Lib\\site-packages\\pyarrow\\error.pxi:155\u001b[0m, in \u001b[0;36mpyarrow.lib.pyarrow_internal_check_status\u001b[1;34m()\u001b[0m\n",
      "File \u001b[1;32mc:\\Users\\Niitro_musics\\AppData\\Local\\Programs\\Python\\Python312\\Lib\\site-packages\\pyarrow\\error.pxi:92\u001b[0m, in \u001b[0;36mpyarrow.lib.check_status\u001b[1;34m()\u001b[0m\n",
      "\u001b[1;31mArrowInvalid\u001b[0m: Could not open Parquet input source '<Buffer>': Parquet magic bytes not found in footer. Either the file is corrupted or this is not a parquet file."
     ]
    }
   ],
   "source": [
    "df=pd.read_parquet('../data/database_movies.parquet')"
   ]
  },
  {
   "cell_type": "code",
   "execution_count": 67,
   "metadata": {},
   "outputs": [],
   "source": [
    "for i in range(df.shape[0]):\n",
    "    a=df.iloc[i]['embeddings'].replace('[','')\n",
    "    a=a.replace(']','')\n",
    "    a=a.replace('\\n','')\n",
    "    a=a.split()\n",
    "    b = [float(val) for val in a]\n",
    "    df.at[i,'embeddings']=b"
   ]
  },
  {
   "cell_type": "code",
   "execution_count": 4,
   "metadata": {},
   "outputs": [
    {
     "ename": "NameError",
     "evalue": "name 'df' is not defined",
     "output_type": "error",
     "traceback": [
      "\u001b[1;31m---------------------------------------------------------------------------\u001b[0m",
      "\u001b[1;31mNameError\u001b[0m                                 Traceback (most recent call last)",
      "Cell \u001b[1;32mIn[4], line 1\u001b[0m\n\u001b[1;32m----> 1\u001b[0m \u001b[38;5;28;01mfor\u001b[39;00m i, row \u001b[38;5;129;01min\u001b[39;00m \u001b[43mdf\u001b[49m\u001b[38;5;241m.\u001b[39miterrows():\n\u001b[0;32m      2\u001b[0m     \u001b[38;5;66;03m# if i<22374: continue\u001b[39;00m\n\u001b[0;32m      3\u001b[0m     \u001b[38;5;28;01mif\u001b[39;00m row[\u001b[38;5;124m'\u001b[39m\u001b[38;5;124membeddings\u001b[39m\u001b[38;5;124m'\u001b[39m]\u001b[38;5;241m==\u001b[39m[]: \u001b[38;5;28;01mcontinue\u001b[39;00m\n\u001b[0;32m      4\u001b[0m     \u001b[38;5;28;01mtry\u001b[39;00m:\n\u001b[0;32m      5\u001b[0m         \u001b[38;5;66;03m# Handle missing or incorrect types\u001b[39;00m\n",
      "\u001b[1;31mNameError\u001b[0m: name 'df' is not defined"
     ]
    }
   ],
   "source": [
    "for i, row in df.iterrows():\n",
    "    # if i<22374: continue\n",
    "    if row['embeddings']==[]: continue\n",
    "    try:\n",
    "        # Handle missing or incorrect types\n",
    "        title = row['title'] if pd.notna(row['title']) else 'Unknown Title'\n",
    "        plot = row['plot'] if pd.notna(row['plot']) else 'No plot available'\n",
    "        genres = row['genres'] if pd.notna(row['genres']) else 'Unknown'\n",
    "        movie_cast = row['cast'] if pd.notna(row['cast']) else 'Unknown'\n",
    "        fullplot = row['fullplot'] if pd.notna(row['fullplot']) else 'No full plot available'\n",
    "        countries = row['countries'] if pd.notna(row['countries']) else 'Unknown'\n",
    "        directors = row['directors'] if pd.notna(row['directors']) else 'Unknown'\n",
    "        rated = row['rated'] if pd.notna(row['rated']) else 'Unrated'\n",
    "        lastupdated = row['lastupdated'] if pd.notna(row['lastupdated']) else 'Unknown'\n",
    "        type_ = row['type'] if pd.notna(row['type']) else 'Unknown'\n",
    "        runtime = row['runtime.$numberInt'] if pd.notna(row['runtime.$numberInt']) else None\n",
    "        released = row['released.$date.$numberLong'] if pd.notna(row['released.$date.$numberLong']) else None\n",
    "        awards_wins = row['awards.wins.$numberInt'] if pd.notna(row['awards.wins.$numberInt']) else 0\n",
    "        awards_nominations = row['awards.nominations.$numberInt'] if pd.notna(row['awards.nominations.$numberInt']) else 0\n",
    "        year = row['year.$numberInt'] if pd.notna(row['year.$numberInt']) else None\n",
    "        poster = row['poster'] if pd.notna(row['poster']) else 'No poster available'\n",
    "        languages = row['languages'] if pd.notna(row['languages']) else 'Unknown'\n",
    "        writers = row['writers'] if pd.notna(row['writers']) else 'Unknown'\n",
    "        merged_rating = row['merged_rating'] if pd.notna(row['merged_rating']) else 'Unknown'\n",
    "        merged_plot = row['merged_plot'] if pd.notna(row['merged_plot']) else 'No plot available'\n",
    "        embeddings = row['embeddings']  # Ensure embeddings are in the correct format\n",
    "        \n",
    "        \n",
    "        # Execute the insert query\n",
    "        cur.execute(insert_query, (\n",
    "            title, plot, genres, movie_cast, fullplot, countries, directors, rated, lastupdated, \n",
    "            type_, runtime, released, awards_wins, awards_nominations, year, poster, languages, writers, \n",
    "            merged_rating, merged_plot, embeddings\n",
    "        ))\n",
    "    except Exception as e:\n",
    "        print(f\"Error inserting row {i} (Title: {row['title']}): {e}\")\n",
    "        continue  # Skip to the next row in case of an error\n",
    "\n",
    "conn.commit()\n",
    "print(\"Data inserted successfully!\")"
   ]
  },
  {
   "cell_type": "code",
   "execution_count": 85,
   "metadata": {},
   "outputs": [],
   "source": [
    "conn.rollback()"
   ]
  },
  {
   "cell_type": "code",
   "execution_count": 96,
   "metadata": {},
   "outputs": [],
   "source": [
    "from encoder import generate_embedding_local as gel\n",
    "from psycopg2.extensions import adapt"
   ]
  },
  {
   "cell_type": "code",
   "execution_count": 136,
   "metadata": {},
   "outputs": [],
   "source": [
    "text=\"Epic film about three people\"\n",
    "text_e=gel(text)\n",
    "query_embedding = np.array(text_e, dtype=np.float32)"
   ]
  },
  {
   "cell_type": "code",
   "execution_count": 98,
   "metadata": {},
   "outputs": [
    {
     "name": "stdout",
     "output_type": "stream",
     "text": [
      "[-5.02207540e-02 -3.03823706e-02 -1.25894636e-01 -2.43062284e-02\n",
      "  6.72285678e-03  2.99797170e-02  3.08149550e-02 -3.20078433e-02\n",
      "  5.72921336e-02 -5.74376620e-02  1.94543414e-02 -6.52914271e-02\n",
      "  1.19013265e-02  4.14783917e-02 -1.54203214e-02  3.16982381e-02\n",
      " -7.64363306e-03  5.37417009e-02  4.22768109e-02 -3.88339721e-02\n",
      "  5.02425767e-02 -4.46421131e-02  5.32803610e-02  6.54394105e-02\n",
      " -4.12986837e-02  3.33338859e-03  4.83187363e-02 -3.34154516e-02\n",
      " -9.50656608e-02  2.95825060e-02  3.30860540e-02 -3.20404992e-02\n",
      " -2.46740337e-02  1.02206673e-02 -3.00489720e-02 -2.19995412e-03\n",
      " -3.66800912e-02  2.75527500e-03 -5.77589385e-02  7.78507534e-03\n",
      " -2.08968651e-02 -2.25443523e-02 -4.02810471e-03 -8.67750794e-02\n",
      "  4.71113138e-02 -4.04563025e-02 -4.78710569e-02 -7.91684613e-02\n",
      "  9.28713679e-02 -2.92533003e-02 -3.10197603e-02 -3.04404087e-02\n",
      " -2.30061710e-02 -2.68119518e-02  2.72826944e-02 -9.25757438e-02\n",
      "  2.74721533e-02 -9.14778709e-02  3.72135751e-02 -1.01625537e-02\n",
      "  4.67662401e-02 -2.95744576e-02  4.94801551e-02 -1.98068633e-03\n",
      "  1.20307334e-01  2.35290397e-02 -3.72942276e-02  2.74030715e-02\n",
      " -7.25888833e-02  6.59230771e-03 -5.28663434e-02  5.49526047e-03\n",
      " -1.19414302e-02 -6.17834255e-02 -1.10895634e-02 -8.72880965e-02\n",
      " -5.86588606e-02 -4.46241610e-02 -7.43307546e-02 -8.66402760e-02\n",
      "  5.24451360e-02 -8.53612572e-02 -3.35049741e-02  3.33287730e-03\n",
      "  1.46789728e-02  7.12718219e-02  4.14723670e-03 -1.97062660e-02\n",
      " -5.77152595e-02  6.45069107e-02 -7.59922564e-02  2.18435153e-02\n",
      "  1.99988764e-02  7.88877010e-02 -1.75019037e-02 -5.97402006e-02\n",
      " -3.97900529e-02 -4.02126759e-02  3.19284499e-02  8.14770684e-02\n",
      "  1.17214089e-02 -1.98773183e-02  3.59178148e-02 -2.72394530e-02\n",
      "  9.54814330e-02  1.84620321e-02  4.24696021e-02 -5.64375035e-02\n",
      " -5.34243099e-02  1.17055438e-02  1.92927886e-02 -4.03480679e-02\n",
      " -9.31995083e-03  5.01564704e-02  6.82369396e-02  3.14571895e-02\n",
      "  5.99204451e-02 -1.17488364e-02  2.50581484e-02  5.79791367e-02\n",
      "  8.15927982e-02 -4.85522905e-03  2.72991117e-02 -2.13402174e-02\n",
      " -3.39769386e-02  5.05284257e-02  6.38561174e-02 -1.35400364e-33\n",
      "  6.55644527e-03  5.56365699e-02 -2.47696396e-02  9.85694826e-02\n",
      "  1.63337830e-02 -1.03165302e-02 -5.84111921e-02 -1.72776985e-03\n",
      " -6.29725531e-02 -5.15578762e-02 -7.03233257e-02 -6.43711090e-02\n",
      " -1.34371994e-02 -1.00647667e-02 -3.10418028e-02 -1.59429163e-02\n",
      " -4.93579581e-02  3.27567123e-02  4.10205983e-02  1.24204950e-02\n",
      " -3.36838104e-02  7.21784905e-02 -9.05989632e-02 -4.78579029e-02\n",
      " -8.92052799e-02  1.11017069e-02 -7.83822685e-03  1.00697912e-02\n",
      "  1.18336007e-01  2.85217375e-03  8.09914544e-02  8.10716301e-02\n",
      "  4.67795692e-02  1.75848994e-02  6.68376386e-02 -2.27000993e-02\n",
      " -5.86506128e-02 -2.75790598e-02 -1.14056505e-02  1.23079479e-01\n",
      " -5.42423055e-02 -3.99652869e-03 -5.38909622e-02 -1.55565590e-02\n",
      " -7.63539821e-02  8.56178254e-02  4.27714325e-02 -2.92221986e-04\n",
      " -5.23921214e-02  6.08216897e-02 -2.89245937e-02  4.74897400e-02\n",
      " -4.24267501e-02 -5.64263610e-04 -4.69390042e-02  1.37627721e-02\n",
      "  2.17024516e-03 -5.55282906e-02  5.08150384e-02 -8.09322894e-02\n",
      " -4.32254076e-02  3.53325680e-02 -1.65416468e-02  3.62516753e-02\n",
      "  6.26807287e-03  4.25220430e-02  5.08138537e-02  3.66826579e-02\n",
      "  1.03681311e-01  3.31901759e-02 -7.76838437e-02 -2.26217676e-02\n",
      "  1.02568038e-01 -4.06697020e-02  7.63920918e-02  2.50037052e-02\n",
      "  3.08573991e-03  6.39439374e-02 -1.36002272e-01 -4.66921693e-03\n",
      " -3.63393202e-02  4.11184467e-02  4.73755635e-02 -1.49600289e-03\n",
      " -2.80649122e-02  8.23109690e-03 -8.41725022e-02 -8.73082876e-02\n",
      " -3.07248551e-02  6.47956207e-02  6.78633014e-03  1.99147593e-02\n",
      "  8.13703090e-02  2.01543793e-02 -3.09647918e-02  1.74555447e-34\n",
      "  5.49119562e-02  4.64629717e-02 -8.35133623e-03 -8.86541381e-02\n",
      "  1.53668478e-01 -1.63626987e-02 -5.57108596e-02  4.25738767e-02\n",
      "  3.89281325e-02  6.02395274e-02 -1.88455526e-02 -8.16544965e-02\n",
      "  1.06332205e-01 -9.97664210e-06  9.54934210e-02  7.45370192e-03\n",
      "  5.11562303e-02 -3.00678331e-02  3.19739629e-04  5.34303524e-02\n",
      "  9.22038853e-02 -1.14908397e-01 -3.66422310e-02  4.04614117e-03\n",
      " -8.34088847e-02  7.37317428e-02  2.38940660e-02 -3.39612551e-02\n",
      " -2.19068415e-02 -4.32987325e-02 -6.89556310e-03 -2.59265266e-02\n",
      " -3.09781190e-02  1.28121702e-02 -6.80863634e-02  6.98064044e-02\n",
      "  1.59983225e-02  1.23257460e-02 -3.93888447e-03  6.53813928e-02\n",
      "  1.15995873e-02  3.56825180e-02 -3.48318331e-02  5.83226420e-02\n",
      "  6.37539523e-03  6.25140443e-02  6.15415834e-02  4.80845850e-03\n",
      " -7.72146583e-02 -6.24043681e-03 -9.95710641e-02 -1.00494428e-02\n",
      " -2.31420528e-02 -6.44765198e-02  3.49902473e-02 -1.13947116e-01\n",
      "  6.59445748e-02 -5.17184585e-02  6.29109889e-02  6.29489720e-02\n",
      " -5.89707717e-02  1.24669857e-02 -1.50344400e-02 -3.40188034e-02\n",
      " -5.05199172e-02  2.89943106e-02 -3.78200002e-02 -3.25887371e-03\n",
      " -6.03471622e-02  2.25309767e-02 -3.18397861e-03 -1.81434397e-02\n",
      " -6.61698729e-02 -7.98139125e-02  2.28075054e-03 -1.01717226e-02\n",
      " -6.06797040e-02  1.77532323e-02  3.32174152e-02 -3.32344174e-02\n",
      "  1.19955176e-02  5.23412693e-03  3.20915841e-02  5.50588854e-02\n",
      "  5.56640385e-04  6.32021874e-02  9.46137533e-02  7.34484047e-02\n",
      " -1.61878038e-02  7.00180680e-02 -1.76079068e-02  9.84930471e-02\n",
      "  1.05900303e-01 -8.14936310e-02  2.60024667e-02 -1.49350363e-08\n",
      "  3.91381979e-02  2.45502684e-02 -5.14507443e-02 -7.19849616e-02\n",
      " -6.48727491e-02 -2.62262672e-02 -1.47242900e-02  4.18742970e-02\n",
      "  1.97834074e-02  2.84175184e-02 -1.35120466e-01  3.32787782e-02\n",
      "  7.58313388e-02  3.05526820e-03 -4.91848625e-02  2.64929626e-02\n",
      "  3.73881236e-02 -3.09993625e-02  1.97102763e-02  3.98499658e-03\n",
      "  3.50377224e-02 -2.47121286e-02  9.63820815e-02 -1.49385929e-02\n",
      "  1.61020253e-02  7.61424005e-02 -3.15743126e-02 -8.44467953e-02\n",
      " -1.82919037e-02  2.95127630e-02 -7.13633653e-03  1.94228627e-02\n",
      " -6.92896172e-02  2.43517943e-02  5.00785820e-02 -9.45285335e-03\n",
      " -9.77711519e-04  3.20597063e-03  3.62702385e-02 -5.05348071e-02\n",
      " -6.45654873e-05  7.88243711e-02  9.79502779e-03  2.17328370e-02\n",
      "  9.66714323e-02  2.41650529e-02  1.85392946e-02 -9.60971192e-02\n",
      " -1.35436244e-02  3.44281048e-02 -3.32228839e-02 -8.19423720e-02\n",
      " -2.25724131e-02  4.95073199e-02  1.92311797e-02 -9.17190015e-02\n",
      " -3.03555652e-02  3.49579789e-02  3.15350550e-03  1.91792250e-02\n",
      "  6.94848970e-02 -1.45305907e-02  6.88374927e-03  7.52124703e-03]\n"
     ]
    }
   ],
   "source": [
    "print(query_embedding)"
   ]
  },
  {
   "cell_type": "code",
   "execution_count": 142,
   "metadata": {},
   "outputs": [],
   "source": [
    "query = \"\"\"\n",
    "    SELECT title, plot \n",
    "    FROM movies \n",
    "    ORDER BY embeddings <-> %s\n",
    "    LIMIT 10;\n",
    "\"\"\""
   ]
  },
  {
   "cell_type": "code",
   "execution_count": 151,
   "metadata": {},
   "outputs": [],
   "source": [
    "query = \"\"\"\n",
    "    SELECT embeddings <-> %s::vector AS similarity, title, plot\n",
    "    FROM movies \n",
    "    ORDER BY similarity\n",
    "    LIMIT 10;\n",
    "\"\"\""
   ]
  },
  {
   "cell_type": "code",
   "execution_count": 145,
   "metadata": {},
   "outputs": [],
   "source": [
    "cur.execute(\n",
    "    \"\"\"CREATE INDEX ON movies USING ivfflat (embeddings);\n",
    "    \"\"\"\n",
    ")"
   ]
  },
  {
   "cell_type": "code",
   "execution_count": 93,
   "metadata": {},
   "outputs": [],
   "source": [
    "from pgvector.psycopg2 import register_vector\n",
    "register_vector(conn)"
   ]
  },
  {
   "cell_type": "code",
   "execution_count": 152,
   "metadata": {},
   "outputs": [
    {
     "name": "stdout",
     "output_type": "stream",
     "text": [
      "Title: (0.9162368995177518, 'United Red Army', 'A story about the rise and fall of United Red Army, a real life 70s short-lived Japanese armed revolutionary communist movement similar to more famous Red Brigades in Italy or ...')\n",
      "Title: (0.9257329292402613, 'Teaching Mrs. Tingle', 'The story of a girl who is willing to do anything to become Valedictorian, even if it means murdering the teacher that stands in her way.')\n",
      "Title: (0.9518110880745149, 'Arthur 2: On the Rocks', 'Arthur loses all his money, and his wife wants a baby.')\n",
      "Title: (0.9640079847654102, 'Brazil', 'A bureaucrat in a retro-future world tries to correct an administrative error and himself becomes an enemy of the state.')\n",
      "Title: (0.964915006531435, 'Whiffs', \"A private applies to be a test subject for the military's new chemical weapons program. After many tests he decides to use his knowledge on chemical warfare to rob banks. He will need a partner, though.\")\n",
      "Title: (0.964915006531435, 'Seven Beauties', 'The defense of honor, a strong value in Neapolitan society, and his effects on the life of everyman Pasquale Frafuso.')\n",
      "Title: (0.9677528048104882, 'Lèon: The Professional', \"Mathilda, a 12-year-old girl, is reluctantly taken in by Lèon, a professional assassin, after her family is murdered. Lèon and Mathilda form an unusual relationship, as she becomes his protègèe and learns the assassin's trade.\")\n",
      "Title: (0.9708180656924369, 'Torremolinos 73', 'Set in 1973 Spain, a struggling encyclopedia salesman and his wife take advantage of an offer to make adult films. The act turns him into an aspring legit filmmaker and her into an international sex symbol.')\n",
      "Title: (0.9747068551341139, 'Shallow Grave', 'Three friends discover their new flatmate dead but loaded with cash.')\n",
      "Title: (0.9891085874597959, 'LSD: Love, Sex Aur Dhokha', 'A video camcorder, a store security camera, and concealed cameras candidly expose lives in three loosely-linked tales.')\n"
     ]
    }
   ],
   "source": [
    "cur.execute(query, (query_embedding,))\n",
    "results = cur.fetchall()\n",
    "\n",
    "for result in results:\n",
    "    print(f\"Title: {result}\")"
   ]
  },
  {
   "cell_type": "code",
   "execution_count": 140,
   "metadata": {},
   "outputs": [],
   "source": [
    "conn.rollback()"
   ]
  }
 ],
 "metadata": {
  "kernelspec": {
   "display_name": "Python 3",
   "language": "python",
   "name": "python3"
  },
  "language_info": {
   "codemirror_mode": {
    "name": "ipython",
    "version": 3
   },
   "file_extension": ".py",
   "mimetype": "text/x-python",
   "name": "python",
   "nbconvert_exporter": "python",
   "pygments_lexer": "ipython3",
   "version": "3.12.4"
  }
 },
 "nbformat": 4,
 "nbformat_minor": 2
}
